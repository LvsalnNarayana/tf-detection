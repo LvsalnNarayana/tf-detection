{
  "cells": [
    {
      "cell_type": "markdown",
      "metadata": {
        "id": "view-in-github",
        "colab_type": "text"
      },
      "source": [
        "<a href=\"https://colab.research.google.com/github/LvsalnNarayana/tf-detection/blob/main/Welcome_To_Colaboratory.ipynb\" target=\"_parent\"><img src=\"https://colab.research.google.com/assets/colab-badge.svg\" alt=\"Open In Colab\"/></a>"
      ]
    },
    {
      "cell_type": "code",
      "source": [
        "import os\n",
        "\n",
        "# Define the paths\n",
        "WORKSPACE_PATH = 'Tensorflow/workspace'\n",
        "SCRIPTS_PATH = 'Tensorflow/scripts'\n",
        "APIMODEL_PATH = 'Tensorflow/models'\n",
        "ANNOTATION_PATH = WORKSPACE_PATH+'/annotations'\n",
        "IMAGE_PATH = WORKSPACE_PATH+'/images'\n",
        "MODEL_PATH = WORKSPACE_PATH+'/models'\n",
        "PRETRAINED_MODEL_PATH = WORKSPACE_PATH+'/pre-trained-models'\n",
        "CONFIG_PATH = MODEL_PATH+'/my_ssd_mobnet/pipeline.config'\n",
        "CHECKPOINT_PATH = MODEL_PATH+'/my_ssd_mobnet/'\n",
        "\n",
        "# Check if the paths exist\n",
        "print(\"WORKSPACE_PATH exists:\", os.path.exists(WORKSPACE_PATH))\n",
        "print(\"SCRIPTS_PATH exists:\", os.path.exists(SCRIPTS_PATH))\n",
        "print(\"APIMODEL_PATH exists:\", os.path.exists(APIMODEL_PATH))\n",
        "print(\"ANNOTATION_PATH exists:\", os.path.exists(ANNOTATION_PATH))\n",
        "print(\"IMAGE_PATH exists:\", os.path.exists(IMAGE_PATH))\n",
        "print(\"MODEL_PATH exists:\", os.path.exists(MODEL_PATH))\n",
        "print(\"PRETRAINED_MODEL_PATH exists:\", os.path.exists(PRETRAINED_MODEL_PATH))\n",
        "print(\"CONFIG_PATH exists:\", os.path.exists(CONFIG_PATH))\n",
        "print(\"CHECKPOINT_PATH exists:\", os.path.exists(CHECKPOINT_PATH))"
      ],
      "metadata": {
        "colab": {
          "base_uri": "https://localhost:8080/"
        },
        "id": "r5vPiVEY5leE",
        "outputId": "a4a52a56-ab7f-47c1-e1a9-c63a97bb4e9d"
      },
      "execution_count": 1,
      "outputs": [
        {
          "output_type": "stream",
          "name": "stdout",
          "text": [
            "WORKSPACE_PATH exists: False\n",
            "SCRIPTS_PATH exists: False\n",
            "APIMODEL_PATH exists: False\n",
            "ANNOTATION_PATH exists: False\n",
            "IMAGE_PATH exists: False\n",
            "MODEL_PATH exists: False\n",
            "PRETRAINED_MODEL_PATH exists: False\n",
            "CONFIG_PATH exists: False\n",
            "CHECKPOINT_PATH exists: False\n"
          ]
        }
      ]
    },
    {
      "cell_type": "code",
      "source": [
        "cd '/content/Tensorflow'"
      ],
      "metadata": {
        "colab": {
          "base_uri": "https://localhost:8080/"
        },
        "id": "q8hX-Nx57ol7",
        "outputId": "e48116fb-60b2-4706-d3f0-375f4821914b"
      },
      "execution_count": 16,
      "outputs": [
        {
          "output_type": "stream",
          "name": "stdout",
          "text": [
            "/content/Tensorflow\n"
          ]
        }
      ]
    },
    {
      "cell_type": "code",
      "source": [
        "https://github.com/tensorflow/models.git"
      ],
      "metadata": {
        "colab": {
          "base_uri": "https://localhost:8080/",
          "height": 134
        },
        "id": "veReKdBG8Ed5",
        "outputId": "82bde73c-3df6-4cb6-d36f-d2247fa656b1"
      },
      "execution_count": 19,
      "outputs": [
        {
          "output_type": "error",
          "ename": "SyntaxError",
          "evalue": "ignored",
          "traceback": [
            "\u001b[0;36m  File \u001b[0;32m\"<ipython-input-19-d351dbaea6ae>\"\u001b[0;36m, line \u001b[0;32m1\u001b[0m\n\u001b[0;31m    https://github.com/tensorflow/models.git\u001b[0m\n\u001b[0m          ^\u001b[0m\n\u001b[0;31mSyntaxError\u001b[0m\u001b[0;31m:\u001b[0m invalid syntax\n"
          ]
        }
      ]
    },
    {
      "cell_type": "code",
      "source": [
        "labels = [\n",
        "    {'name':'A', 'id':1},\n",
        "]"
      ],
      "metadata": {
        "id": "KuZH95LZ5pla"
      },
      "execution_count": 2,
      "outputs": []
    },
    {
      "cell_type": "code",
      "source": [
        "import os\n",
        "os.makedirs(ANNOTATION_PATH, exist_ok=True)\n",
        "with open(ANNOTATION_PATH + '\\label_map.pbtxt', 'w') as f:\n",
        "    for label in labels:\n",
        "        f.write('item { \\n')\n",
        "        f.write('\\tname:\\'{}\\'\\n'.format(label['name']))\n",
        "        f.write('\\tid:{}\\n'.format(label['id']))\n",
        "        f.write('}\\n')"
      ],
      "metadata": {
        "id": "LP7Pf3CZ5t66"
      },
      "execution_count": 5,
      "outputs": []
    },
    {
      "cell_type": "code",
      "source": [
        "python {SCRIPTS_PATH + '/generate_tfrecord.py'} --xml_folder {IMAGE_PATH + '/train'} --image_folder {IMAGE_PATH + '/train'} --output_file {ANNOTATION_PATH + '/train.record'}"
      ],
      "metadata": {
        "id": "vCypCM-H6Nnr"
      },
      "execution_count": null,
      "outputs": []
    }
  ],
  "metadata": {
    "colab": {
      "name": "Welcome To Colaboratory",
      "provenance": [],
      "include_colab_link": true
    },
    "kernelspec": {
      "display_name": "Python 3",
      "name": "python3"
    }
  },
  "nbformat": 4,
  "nbformat_minor": 0
}